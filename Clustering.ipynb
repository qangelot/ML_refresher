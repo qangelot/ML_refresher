{
 "cells": [
  {
   "cell_type": "markdown",
   "metadata": {},
   "source": [
    "# K-means\n",
    "\n",
    "Widely used for market segmentation and to build products which suit the needs of your subpopulations.\n",
    "\n",
    "Algorithm overview : \n",
    "\n",
    "- Randomly allocate two points as the cluster centroids\n",
    "    -- Have as many cluster centroids as clusters you want to do (K cluster centroids, in fact)\n",
    "- Cluster assignment step\n",
    "    -- Go through each example and depending on if it's closer to the red or blue centroid assign each point to one of the two clusters\n",
    "    -- To demonstrate this, we've gone through the data and \"colour\" each point red or blue\n",
    "- Move centroid step\n",
    "    -- Take each centroid and move to the average of the correspondingly assigned data-points \n",
    "- Repeat 2) and 3) until convergence\n",
    "\n",
    "What if there's a centroid with no data\n",
    "- Remove that centroid, so end up with K-1 classes\n",
    "- Or, randomly reinitialize it\n",
    "\n",
    "While K-means is running we keep track of two sets of variables\n",
    "- $c_{i}$ is the index of clusters from {1,2, ..., K} to which $x_{i}$ is currently assigned\n",
    "    -- i.e. there are m $c_{i}$ values, as each example has a $c_{i}$ value, and that value is one the the clusters (i.e. can only be one of K different values)\n",
    "- $μ_{ci}$ is the cluster centroid of the cluster to which example $x_{i}$ has been assigned to\n",
    "\n",
    "Lets say $x_{i}$ as been assigned to cluster $c_{i}$ = 5 then $μ_{ci}$ = $μ_{5}$\n",
    "\n",
    "Using this notation we can write the optimization objective :\n",
    "\n",
    "<img src='files/k_means_objective.png'>\n",
    "\n",
    "\n",
    "If we consider the k-means algorithm : \n",
    "- The cluster assigned step is minimizing J(...) with respect to $c_{1}$ , $c_{2}$  ... $c_{i}$ \n",
    "    -- i.e. find the centroid closest to each example\n",
    "    -- doesn't change the centroids themselves\n",
    "- The move centroid step\n",
    "    -- choosing the values of μ which minimizes J(...) with respect to μ from {1,2, ..., K}\n",
    "    \n",
    "<img src='files/k_means_loops.png'>"
   ]
  },
  {
   "cell_type": "markdown",
   "metadata": {},
   "source": [
    "## Random initialization\n",
    "\n",
    "How do we initialize K-means and how to avoid local optimum ?\n",
    "      \n",
    "- Have number of centroids set to less than number of examples (K < m)\n",
    "- Randomly pick K training examples\n",
    "- Set $μ_{1}$ up to $μ_{K}$ to these example's values\n",
    "\n",
    "K means can converge to different solutions depending on the initialization setup : risk of local optimum\n",
    "\n",
    "We can do multiple random initializations and see if we get the same result (many same results are likely to indicate a global optimum)\n",
    "\n",
    "If you're running K means with 2-10 clusters this can help find better global optimum\n",
    "\n",
    "If K is larger than 10, then multiple random initializations are less likely to be necessary and first solution is probably good enough (better granularity of clustering)\n",
    "\n",
    "How do we choose the number of clusters K ?\n",
    "\n",
    "- Normally use visualizations to do it manually : what are the intuitions regarding the data? (Sometimes very ambiguous)\n",
    "- Elbow method : \n",
    "    -- Vary K and compute cost function at a range of K values (and you can do multiple random initialisation for each value of K)\n",
    "    -- As K increases J(...) minimum value should decrease (i.e. you decrease the granularity so centroids can better optimize)\n",
    "    -- Plot this (K vs J())\n",
    "    -- Look for the \"elbow\" on the graph\n",
    "\n",
    "But often you don't get a a nice line -> no clear elbow on curve\n",
    "\n",
    "- Another method for choosing K : \n",
    "    -- Using K-means for market segmentation\n",
    "    -- Running K-means for a later/downstream purpose\n",
    "    -- See how well different number of clusters serve you later needs\n",
    "    -- Using business metrics"
   ]
  },
  {
   "cell_type": "code",
   "execution_count": null,
   "metadata": {},
   "outputs": [],
   "source": []
  }
 ],
 "metadata": {
  "kernelspec": {
   "display_name": "Python 3",
   "language": "python",
   "name": "python3"
  },
  "language_info": {
   "codemirror_mode": {
    "name": "ipython",
    "version": 3
   },
   "file_extension": ".py",
   "mimetype": "text/x-python",
   "name": "python",
   "nbconvert_exporter": "python",
   "pygments_lexer": "ipython3",
   "version": "3.6.9"
  }
 },
 "nbformat": 4,
 "nbformat_minor": 4
}
