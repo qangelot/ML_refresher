{
 "cells": [
  {
   "cell_type": "markdown",
   "metadata": {},
   "source": [
    "## Prioritizing What to Work On\n",
    "\n",
    "System Design Example:\n",
    "\n",
    "Given a data set of emails, we could construct a vector for each email. Each entry in this vector represents a word. The vector normally contains 10,000 to 50,000 entries gathered by finding the most frequently used words in our data set. If a word is to be found in the email, we would assign its respective entry a 1, else if it is not found, that entry would be a 0. Once we have all our x vectors ready, we train our algorithm and finally, we could use it to classify if an email is spam or not.\n",
    "\n",
    "\n",
    "<br>\n",
    "<img src= 'files/spam.png'>\n",
    "\n",
    "\n",
    "So how could you spend your time to improve the accuracy of this classifier?\n",
    "\n",
    "- Collect lots of data (\"honeypot\" project but doesn't always work)\n",
    "- Develop sophisticated features (using email header data in spam emails)\n",
    "- Develop algorithms to process your input in different ways (recognizing misspellings in spam)\n",
    "\n",
    "It is difficult to tell which of the options will be most helpful.\n",
    "\n"
   ]
  },
  {
   "cell_type": "markdown",
   "metadata": {},
   "source": [
    "## Error Analysis\n",
    "\n",
    "The recommended approach to solving machine learning problems is to:\n",
    "\n",
    "- Start with a simple algorithm, implement it quickly, and test it early on your cross validation data.\n",
    "- Plot learning curves to decide if more data, more features, etc. are likely to help.\n",
    "- Manually examine the errors on examples in the cross validation set and try to spot a trend where most of the errors were made.\n",
    "\n",
    "For example, assume that we have 500 emails and our algorithm misclassifies a 100 of them. \n",
    "We could manually analyze the 100 emails and categorize them based on what type of emails they are. \n",
    "We could then try to come up with new cues and features that would help us classify these 100 emails correctly. \n",
    "\n",
    "Hence, if most of our misclassified emails are those which try to steal passwords, then we could find some features that are particular to those emails and add them to our model. We could also see how classifying each word according to its root changes our error rate:\n",
    "\n",
    "\n",
    "<br>\n",
    "<img src= 'files/error_analysis.png'>\n",
    "\n",
    "It is very important to get error results as a single, numerical value. Otherwise it is difficult to assess your algorithm's performance. \n",
    "\n",
    "For example if we use stemming, which is the process of treating the same word with different forms (fail/failing/failed) as one word (fail), and get a 3% error rate instead of 5%, then we should definitely add it to our model. \n",
    "\n",
    "However, if we try to distinguish between uppercase and lowercase letters and end up getting a 3.2% error rate instead of 3%, then we should avoid using this new feature. \n",
    "\n",
    "Hence, we should try new things, get a numerical value for our error rate, and based on our results decide whether we want to keep the new feature or not.\n"
   ]
  },
  {
   "cell_type": "markdown",
   "metadata": {},
   "source": [
    "## Precision and recall trade-off\n",
    "\n",
    "<b>Accuracy = (true positives + true negatives) / (total examples)\n",
    "\n",
    "Precision = true positives / # predicted positives\n",
    "\n",
    "Recall = true postives / # actual positives</b>\n",
    "\n",
    "Those two metrics are a great way to handle skewed classes and deal with particular problem like fraud, where only 1% of cases are actually positives. Here a model predicting y = 0 all the time will be 99% accurate while never revealing any fraud case. Thats the main interest of using Precision and Recall metrics. \n",
    "\n",
    "Depending on our classfication problematic, we want to set a different threshold in order to determine when our classifier should predict a positive or a negative case. The default is 0.5 : if we have a probability of 0.5 for the observation to be positive, we classified it as positive. But depending on the problematic or the domain knowledge, we may need to set a different threshold.\n",
    "\n",
    "For instance, what is the less problematic situation :\n",
    "\n",
    "- wrongly predicting a patient  as positive and treat him even if he is healthy?\n",
    "- wrongly predicting a patient as negative and not treating him, letting his condition get worse and leading him to a potential death?\n",
    "\n",
    "Here you may want to lower the threshold and classified more patient as being positive even if they are not, in order to not miss any actual positive case : you reduce the precision and increase the recall by doing so.\n",
    "\n",
    "F score is usefull in order to somehow aggregate the value of both Precision and Recall in a single number. This metric aim to favor balanced cases where both previous metrics are high enough. \n",
    "\n",
    "$F_{1}score = 2* PR / (P+R)$\n"
   ]
  },
  {
   "cell_type": "markdown",
   "metadata": {},
   "source": [
    "### Data for ML\n",
    "\n",
    "#### \"It's not who has the best algorithm that wins, it's who has the most data.\" \n",
    "\n",
    "Assume features X have sufficient information to predict y accurately (a human expert could predict y confidently).\n",
    "\n",
    "Then using a complex learning algorithm with many parameters (e.g. many features, many hidden layers...) will allow to have a low bias and fit well the training data. \n",
    "\n",
    "If we use a very large training, this will make our hypothesis unlikely to overfit and therefore result in a low variance."
   ]
  },
  {
   "cell_type": "code",
   "execution_count": null,
   "metadata": {},
   "outputs": [],
   "source": []
  }
 ],
 "metadata": {
  "kernelspec": {
   "display_name": "Python 3",
   "language": "python",
   "name": "python3"
  },
  "language_info": {
   "codemirror_mode": {
    "name": "ipython",
    "version": 3
   },
   "file_extension": ".py",
   "mimetype": "text/x-python",
   "name": "python",
   "nbconvert_exporter": "python",
   "pygments_lexer": "ipython3",
   "version": "3.6.9"
  }
 },
 "nbformat": 4,
 "nbformat_minor": 4
}
