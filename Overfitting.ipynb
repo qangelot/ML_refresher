{
 "cells": [
  {
   "cell_type": "markdown",
   "metadata": {},
   "source": [
    "## The Problem of Overfitting\n",
    "\n",
    "Underfitting, or high bias, is when the form of our hypothesis function h maps poorly to the trend of the data. It is usually caused by a function that is too simple or uses too few features. \n",
    "\n",
    "At the other extreme, overfitting, or high variance, is caused by a hypothesis function that fits the available data but does not generalize well to predict new data.\n",
    "\n",
    "There are two main options to address the issue of overfitting:\n",
    "\n",
    "1) Reduce the number of features:\n",
    "\n",
    "Manually select which features to keep or use a model selection algorithm.\n",
    "\n",
    "2) Regularization\n",
    "\n",
    "Keep all the features, but reduce the magnitude of the parameters. Regularization works well when we have a lot of slightly useful features."
   ]
  },
  {
   "cell_type": "markdown",
   "metadata": {},
   "source": [
    "## Regularization\n",
    "\n",
    "If we have overfitting from our hypothesis function, we can reduce the weight that some of the terms in our function carry by increasing their cost.\n",
    "\n",
    "Without actually getting rid of these features or changing the form of our hypothesis, we can instead modify our cost function.\n",
    "\n",
    "We could also regularize all of our theta parameters in a single summation as:\n",
    "\n",
    "\\begin{align*}& min_\\theta\\ \\dfrac{1}{2m}\\ \\sum_{i=1}^m (h_\\theta(x^{(i)}) - y^{(i)})^2 + \\lambda\\ \\sum_{j=1}^n \\theta_j^2\t\\end{align*} \n",
    "\n",
    "The lambda is the regularization parameter. It determines how much the costs of our theta parameters are inflated.\n",
    "\n",
    "Using the above cost function with the extra summation, we can smooth the output of our hypothesis function to reduce overfitting. If lambda is chosen to be too large, it may smooth out the function too much and cause underfitting.\n",
    "\n"
   ]
  },
  {
   "cell_type": "markdown",
   "metadata": {},
   "source": [
    "## Regularized Linear Regression\n",
    "\n",
    "We can apply regularization to both linear regression and logistic regression.\n",
    "\n",
    "### Gradient Descent\n",
    "\n",
    "We will modify our gradient descent function to separate out θ0 from the rest of the parameters because we do not want to penalize θ0.\n",
    "\n",
    "\\begin{align*} & \\text{Repeat}\\ \\lbrace \\newline & \\ \\ \\ \\ \\theta_0 := \\theta_0 - \\alpha\\ \\frac{1}{m}\\ \\sum_{i=1}^m (h_\\theta(x^{(i)}) - y^{(i)})x_0^{(i)} \\newline & \\ \\ \\ \\ \\theta_j := \\theta_j - \\alpha\\ \\left[ \\left( \\frac{1}{m}\\ \\sum_{i=1}^m (h_\\theta(x^{(i)}) - y^{(i)})x_j^{(i)} \\right) + \\frac{\\lambda}{m}\\theta_j \\right] &\\ \\ \\ \\ \\ \\ \\ \\ \\ \\ j \\in \\lbrace 1,2...n\\rbrace\\newline & \\rbrace \\end{align*}\n",
    "\n",
    "The term \\begin{align*} &  \\frac{\\lambda}{m}\\theta_j \\end{align*} performs our regularization. With some manipulation our update rule can also be represented as:\n",
    "\n",
    "\\begin{align*} & \\theta_j := \\theta_j(1 - \\alpha\\frac{\\lambda}{m}) - \\alpha\\frac{1}{m}\\sum_{i=1}^m(h_\\theta(x^{(i)}) - y^{(i)})x_j^{(i)} \\end{align*}\t \n",
    "\n",
    "The first term in the above equation will always be less than 1. Intuitively you can see it as reducing the value of θj by some amount on every update. Notice that the second term is now exactly the same as it was before.\n",
    "\n",
    "### Normal Equation\n",
    "\n",
    "Now let's approach regularization using the alternate method of the non-iterative normal equation.\n",
    "\n",
    "To add in regularization, the equation is the same as our original, except that we add another term inside the parentheses:\n",
    "\n",
    "\\begin{align*}& \\theta = \\left( X^TX + \\lambda \\cdot L \\right)^{-1} X^Ty \\newline& \\text{where}\\ \\ L = \\begin{bmatrix} 0 & & & & \\newline & 1 & & & \\newline & & 1 & & \\newline & & & \\ddots & \\newline & & & & 1 \\newline\\end{bmatrix} \\end{align*}\n",
    "\n",
    "L is a matrix with 0 at the top left and 1's down the diagonal, with 0's everywhere else. It should have dimension (n+1)×(n+1). Intuitively, this is the identity matrix multiplied with a single real number λ.\n",
    "\n",
    "Recall that if m < n, then X^TX is non-invertible. However, when we add the term λ⋅L, then X^TX + λ⋅L becomes invertible."
   ]
  },
  {
   "cell_type": "markdown",
   "metadata": {},
   "source": [
    "## Regularized Logistic Regression\n",
    "\n",
    "Cost Function\n",
    "Recall that our cost function for logistic regression was:\n",
    "\n",
    "\\begin{align*} & J(\\theta) = - \\frac{1}{m} \\sum_{i=1}^m \\large[ y^{(i)}\\ \\log (h_\\theta (x^{(i)})) + (1 - y^{(i)})\\ \\log (1 - h_\\theta(x^{(i)})) \\large] \\end{align*}\n",
    "\n",
    "We can regularize this equation by adding a term to the end:\n",
    "\n",
    "\\begin{align*} & J(\\theta) = - \\frac{1}{m} \\sum_{i=1}^m \\large[ y^{(i)}\\ \\log (h_\\theta (x^{(i)})) + (1 - y^{(i)})\\ \\log (1 - h_\\theta(x^{(i)}))\\large] + \\frac{\\lambda}{2m}\\sum_{j=1}^n \\theta_j^2 \\end{align*}\n",
    "\n",
    "The second sum means to explicitly exclude the bias term θ0. Thus, when computing the equation, we should continuously update the two following equations:\n",
    "\n",
    "<br>\n",
    "\n",
    "<img src=\"files/gd_regul_log_reg.png\">\n",
    "\n"
   ]
  },
  {
   "cell_type": "code",
   "execution_count": null,
   "metadata": {},
   "outputs": [],
   "source": []
  }
 ],
 "metadata": {
  "kernelspec": {
   "display_name": "Python 3",
   "language": "python",
   "name": "python3"
  },
  "language_info": {
   "codemirror_mode": {
    "name": "ipython",
    "version": 3
   },
   "file_extension": ".py",
   "mimetype": "text/x-python",
   "name": "python",
   "nbconvert_exporter": "python",
   "pygments_lexer": "ipython3",
   "version": "3.6.9"
  }
 },
 "nbformat": 4,
 "nbformat_minor": 4
}
